{
 "cells": [
  {
   "cell_type": "markdown",
   "id": "df936dc9-9cef-4633-a135-295a678f57af",
   "metadata": {},
   "source": [
    "1. Write a program to accept percentage from the user and display the grade according to the following criteria:\n",
    "\n",
    ":\n",
    "\n",
    "    Marks                   Grade\n",
    "    >90                       A\n",
    "    >80 and <=90              B\n",
    "    >=60 and <=80             C\n",
    "    below 60                  D\n"
   ]
  },
  {
   "cell_type": "code",
   "execution_count": 1,
   "id": "b2578e06-c654-44df-bcc2-fa22dad09bb6",
   "metadata": {},
   "outputs": [
    {
     "name": "stdin",
     "output_type": "stream",
     "text": [
      "Enter the percentage: 80\n"
     ]
    },
    {
     "name": "stdout",
     "output_type": "stream",
     "text": [
      "Grade:  C\n"
     ]
    }
   ],
   "source": [
    "percentage = int(input(\"Enter the percentage:\"))\n",
    "if(percentage>90): \n",
    "    grade = 'A' \n",
    "elif(percentage>80):\n",
    "    grade = 'B' \n",
    "elif(percentage>=60):\n",
    "    grade = 'C' \n",
    "else:\n",
    "    grade = 'D'\n",
    "print(\"Grade: \",grade)\n"
   ]
  },
  {
   "cell_type": "code",
   "execution_count": 2,
   "id": "e04f2ca1-6efb-4b01-83d0-3246a4ebbd04",
   "metadata": {
    "jupyter": {
     "source_hidden": true
    },
    "tags": []
   },
   "outputs": [
    {
     "name": "stdin",
     "output_type": "stream",
     "text": [
      "Enter the percentage: 90\n"
     ]
    },
    {
     "name": "stdout",
     "output_type": "stream",
     "text": [
      "Grade:  B\n"
     ]
    }
   ],
   "source": [
    "percentage = int(input(\"Enter the percentage:\"))\n",
    "if(percentage>90): \n",
    "    grade = 'A' \n",
    "elif(percentage>80):\n",
    "    grade = 'B' \n",
    "elif(percentage>=60):\n",
    "    grade = 'C' \n",
    "else:\n",
    "    grade = 'D'\n",
    "print(\"Grade: \",grade)"
   ]
  },
  {
   "cell_type": "code",
   "execution_count": 3,
   "id": "177a654c-679b-4cd8-86ad-905f2a4e37be",
   "metadata": {
    "jupyter": {
     "source_hidden": true
    },
    "tags": []
   },
   "outputs": [
    {
     "name": "stdin",
     "output_type": "stream",
     "text": [
      "Enter the percentage: 92\n"
     ]
    },
    {
     "name": "stdout",
     "output_type": "stream",
     "text": [
      "Grade:  A\n"
     ]
    }
   ],
   "source": [
    "percentage = int(input(\"Enter the percentage:\"))\n",
    "if(percentage>90): \n",
    "    grade = 'A' \n",
    "elif(percentage>80):\n",
    "    grade = 'B' \n",
    "elif(percentage>=60):\n",
    "    grade = 'C' \n",
    "else:\n",
    "    grade = 'D'\n",
    "print(\"Grade: \",grade)"
   ]
  },
  {
   "cell_type": "code",
   "execution_count": 4,
   "id": "1fa8b0f9-7a58-43cc-9e55-8046bdd023b8",
   "metadata": {
    "jupyter": {
     "source_hidden": true
    },
    "tags": []
   },
   "outputs": [
    {
     "name": "stdin",
     "output_type": "stream",
     "text": [
      "Enter the percentage: 60\n"
     ]
    },
    {
     "name": "stdout",
     "output_type": "stream",
     "text": [
      "Grade:  C\n"
     ]
    }
   ],
   "source": [
    "percentage = int(input(\"Enter the percentage:\"))\n",
    "if(percentage>90): \n",
    "    grade = 'A' \n",
    "elif(percentage>80):\n",
    "    grade = 'B' \n",
    "elif(percentage>=60):\n",
    "    grade = 'C' \n",
    "else:\n",
    "    grade = 'D'\n",
    "print(\"Grade: \",grade)"
   ]
  },
  {
   "cell_type": "markdown",
   "id": "97b890d5-248a-4cf5-a5e5-282ee7799dc7",
   "metadata": {},
   "source": [
    "2. Write a program to accept the cost price and display the road tax to be paid according to the following criteria:\n",
    "\n",
    ":\n",
    "\n",
    "    Tax              Cost Price (in Rs.)\n",
    "    15%                  >100000\n",
    "    10%              >50000 and <= 100000\n",
    "    5%                   <=50000"
   ]
  },
  {
   "cell_type": "code",
   "execution_count": 5,
   "id": "6a69124b-d32d-479a-b1ba-bf45f3043bf7",
   "metadata": {},
   "outputs": [
    {
     "name": "stdin",
     "output_type": "stream",
     "text": [
      "Enter the cost price of the bike:  50000\n"
     ]
    },
    {
     "name": "stdout",
     "output_type": "stream",
     "text": [
      "Tax to be paid: 2500.0\n"
     ]
    }
   ],
   "source": [
    "#2. \n",
    "cost_price = int(input(\"Enter the cost price of the bike: \"))\n",
    "if(cost_price>100000):\n",
    "    tax=cost_price*.15\n",
    "elif(cost_price>50000):\n",
    "    tax=cost_price*.10\n",
    "else:\n",
    "    tax=cost_price*.05\n",
    "print(\"Tax to be paid: \"+ str(tax))"
   ]
  },
  {
   "cell_type": "code",
   "execution_count": 6,
   "id": "5a7cb2d8-8996-4c65-a386-9b80c0c1fa4f",
   "metadata": {},
   "outputs": [
    {
     "name": "stdin",
     "output_type": "stream",
     "text": [
      "Enter the cost price of the bike:  50001\n"
     ]
    },
    {
     "name": "stdout",
     "output_type": "stream",
     "text": [
      "Tax to be paid: 5000.1\n"
     ]
    }
   ],
   "source": [
    "cost_price = int(input(\"Enter the cost price of the bike: \"))\n",
    "if(cost_price>100000):\n",
    "    tax=cost_price*.15\n",
    "elif(cost_price>50000):\n",
    "    tax=cost_price*.10\n",
    "else:\n",
    "    tax=cost_price*.05\n",
    "print(\"Tax to be paid: \"+ str(tax))"
   ]
  },
  {
   "cell_type": "code",
   "execution_count": 7,
   "id": "c9dc338d-97b5-4316-a0a4-130c72d30855",
   "metadata": {
    "jupyter": {
     "source_hidden": true
    },
    "tags": []
   },
   "outputs": [
    {
     "name": "stdin",
     "output_type": "stream",
     "text": [
      "Enter the cost price of the bike:  100000\n"
     ]
    },
    {
     "name": "stdout",
     "output_type": "stream",
     "text": [
      "Tax to be paid: 10000.0\n"
     ]
    }
   ],
   "source": [
    "cost_price = int(input(\"Enter the cost price of the bike: \"))\n",
    "if(cost_price>100000):\n",
    "    tax=cost_price*.15\n",
    "elif(cost_price>50000):\n",
    "    tax=cost_price*.10\n",
    "else:\n",
    "    tax=cost_price*.05\n",
    "print(\"Tax to be paid: \"+ str(tax))"
   ]
  },
  {
   "cell_type": "code",
   "execution_count": 8,
   "id": "f39810af-6b70-4032-8f9c-0667387c5528",
   "metadata": {
    "jupyter": {
     "source_hidden": true
    },
    "tags": []
   },
   "outputs": [
    {
     "name": "stdin",
     "output_type": "stream",
     "text": [
      "Enter the cost price of the bike:  100001\n"
     ]
    },
    {
     "name": "stdout",
     "output_type": "stream",
     "text": [
      "Tax to be paid: 15000.15\n"
     ]
    }
   ],
   "source": [
    "cost_price = int(input(\"Enter the cost price of the bike: \"))\n",
    "if(cost_price>100000):\n",
    "    tax=cost_price*.15\n",
    "elif(cost_price>50000):\n",
    "    tax=cost_price*.10\n",
    "else:\n",
    "    tax=cost_price*.05\n",
    "print(\"Tax to be paid: \"+ str(tax))"
   ]
  },
  {
   "cell_type": "markdown",
   "id": "daa84b47-33a8-4078-b804-19d6f4356c5b",
   "metadata": {},
   "source": [
    "3. Accept any city from the user and display monuments of that city\n",
    "\n",
    ":\n",
    "    \n",
    "    City              Monument\n",
    "    Delhi             Red Fort\n",
    "    Agra              Taj Mahal\n",
    "    Jaipur            Jal Mahal"
   ]
  },
  {
   "cell_type": "code",
   "execution_count": 10,
   "id": "bd4f0e6d-5808-4e97-a0b1-ebef4d22a85f",
   "metadata": {},
   "outputs": [
    {
     "name": "stdin",
     "output_type": "stream",
     "text": [
      "Enter the name of city:  delhi\n"
     ]
    },
    {
     "name": "stdout",
     "output_type": "stream",
     "text": [
      "Monument :  Red Fort\n"
     ]
    }
   ],
   "source": [
    "#3.\n",
    "monument = {\"Delhi\" :\"Red Fort\", \"Agra\" : \"Taj Mahal\", \"Jaipur\" :\"Jal Mahal\"}\n",
    "city = input(\"Enter the name of city: \").capitalize()\n",
    "def display(city):\n",
    "    if city in monument.keys():\n",
    "        print(\"Monument : \",monument[city])\n",
    "    else:\n",
    "        print(\"Out of options\")\n",
    "\n",
    "display(city)"
   ]
  },
  {
   "cell_type": "code",
   "execution_count": 11,
   "id": "a9cfffca-0489-41ee-85af-8692dea2e751",
   "metadata": {
    "jupyter": {
     "source_hidden": true
    },
    "tags": []
   },
   "outputs": [
    {
     "name": "stdin",
     "output_type": "stream",
     "text": [
      "Enter the name of city:  agra\n"
     ]
    },
    {
     "name": "stdout",
     "output_type": "stream",
     "text": [
      "Monument :  Taj Mahal\n"
     ]
    }
   ],
   "source": [
    "city = input(\"Enter the name of city: \").capitalize()\n",
    "display(city)"
   ]
  },
  {
   "cell_type": "code",
   "execution_count": 12,
   "id": "14f59cb8-d8c0-4923-a8bd-89cdf1d31839",
   "metadata": {
    "jupyter": {
     "source_hidden": true
    },
    "tags": []
   },
   "outputs": [
    {
     "name": "stdin",
     "output_type": "stream",
     "text": [
      "Enter the name of city:  jaipur\n"
     ]
    },
    {
     "name": "stdout",
     "output_type": "stream",
     "text": [
      "Monument :  Jal Mahal\n"
     ]
    }
   ],
   "source": [
    "city = input(\"Enter the name of city: \").capitalize()\n",
    "display(city)"
   ]
  },
  {
   "cell_type": "code",
   "execution_count": 13,
   "id": "f38536df-716e-4485-9056-97e1feaa6b2c",
   "metadata": {
    "jupyter": {
     "source_hidden": true
    },
    "tags": []
   },
   "outputs": [
    {
     "name": "stdin",
     "output_type": "stream",
     "text": [
      "Enter the name of city:  bangalore\n"
     ]
    },
    {
     "name": "stdout",
     "output_type": "stream",
     "text": [
      "Out of options\n"
     ]
    }
   ],
   "source": [
    "city = input(\"Enter the name of city: \").capitalize()\n",
    "display(city)"
   ]
  },
  {
   "cell_type": "markdown",
   "id": "f57be993-631a-46d0-8841-d0b5d24a7db9",
   "metadata": {},
   "source": [
    "4. Check how many times a given number can be divided by 3 before it is less than or equal to 10."
   ]
  },
  {
   "cell_type": "code",
   "execution_count": 14,
   "id": "ee03a726-cf56-41d0-94bf-4922ca8cd116",
   "metadata": {},
   "outputs": [
    {
     "name": "stdin",
     "output_type": "stream",
     "text": [
      "Enter a number :  254\n"
     ]
    },
    {
     "name": "stdout",
     "output_type": "stream",
     "text": [
      "The number 254 can be divided by 3 for 3 number of times before it is less than or equal to 10\n"
     ]
    }
   ],
   "source": [
    "#4.\n",
    "number = int(input(\"Enter a number : \"))\n",
    "i = number\n",
    "count = 0\n",
    "\n",
    "while i>=10:\n",
    "    i /= 3\n",
    "    count += 1\n",
    "\n",
    "print(f\"The number {number} can be divided by 3 for {count} number of times before it is less than or equal to 10\")"
   ]
  },
  {
   "cell_type": "markdown",
   "id": "b460b94a-c5a3-4ca9-be77-ca784b61fce7",
   "metadata": {},
   "source": [
    "5. Why and when to use while loop in Python, give a detailed explanation with example.\n",
    "\n",
    "Answer:\n",
    "    \n",
    "    While loop is used when we have to execute a block of code repeatedly until a certain/defined condition is True.\n",
    "    \n",
    "    We use while loop in following situations:\n",
    "    \n",
    "    * When we don't know about the number of repetations of block of code in advance and want to continue until a  specific condition is met, we use while loop.\n",
    "    \n",
    "    * while loop is used while working with data structures like lists, dictionaries and others which are dynamic and we want to continue processing the data until the specific condition is satisfied.\n",
    "    \n",
    "    * while loop allows to implement custom iterations for data structures when for loop is not appropriate.\n",
    "    \n",
    "    * while loop provides flexibility to handle situations where we need to execute a block of code as long as a complex condition is met.\n",
    "    \n",
    "    * while loops are useful in interactive programs where we have to repeteadly present options to the user until they cose to exit."
   ]
  },
  {
   "cell_type": "code",
   "execution_count": 15,
   "id": "892b3aca-009e-449a-a2f8-244b59195193",
   "metadata": {},
   "outputs": [
    {
     "name": "stdin",
     "output_type": "stream",
     "text": [
      "Enter yes or no :  mbb\n",
      "Enter yes or no :  yufyf\n",
      "Enter yes or no :  trial\n",
      "Enter yes or no :  yo\n",
      "Enter yes or no :  yes\n"
     ]
    }
   ],
   "source": [
    "entry = \"\"\n",
    "while entry not in ['yes','no']:\n",
    "    entry = input(\"Enter yes or no : \")"
   ]
  },
  {
   "cell_type": "markdown",
   "id": "26fbd5b0-48e3-4e26-b032-47bb8695bb37",
   "metadata": {},
   "source": [
    "6. Use nested while loop to print 3 different pattern\n",
    "    * Printing Tree Pattern\n",
    "    * Printing Square pattern\n",
    "    * Printing Right Angled Triangle"
   ]
  },
  {
   "cell_type": "code",
   "execution_count": 16,
   "id": "6926bd0b-0753-4f5c-bf3c-9c2e55e32e86",
   "metadata": {},
   "outputs": [
    {
     "name": "stdout",
     "output_type": "stream",
     "text": [
      "        * \n",
      "      * * * \n",
      "    * * * * * \n",
      "  * * * * * * * \n",
      "* * * * * * * * * \n"
     ]
    }
   ],
   "source": [
    "#Tree Pattern\n",
    "height = 5\n",
    "i = 1\n",
    "\n",
    "while i <= height:\n",
    "    j = 1\n",
    "    while j <= height - i:\n",
    "        print(\" \", end=\" \")\n",
    "        j += 1\n",
    "    j = 1\n",
    "    while j <= 2 * i - 1:\n",
    "        print(\"*\", end=\" \")\n",
    "        j += 1\n",
    "    print()\n",
    "    i += 1"
   ]
  },
  {
   "cell_type": "code",
   "execution_count": 17,
   "id": "f6b39210-8f07-45d7-9a4c-36f64ad6f14c",
   "metadata": {},
   "outputs": [
    {
     "name": "stdout",
     "output_type": "stream",
     "text": [
      "* * * * * \n",
      "* * * * * \n",
      "* * * * * \n",
      "* * * * * \n",
      "* * * * * \n"
     ]
    }
   ],
   "source": [
    "# Square Pattern\n",
    "size = 5\n",
    "i = 1\n",
    "while i <= size:\n",
    "    j = 1\n",
    "    while j <= size:\n",
    "        print(\"*\", end=' ')\n",
    "        j += 1\n",
    "    i += 1\n",
    "    print()"
   ]
  },
  {
   "cell_type": "code",
   "execution_count": 18,
   "id": "64ef3352-6605-4981-b0e1-fb5a3dc5ad69",
   "metadata": {},
   "outputs": [
    {
     "name": "stdout",
     "output_type": "stream",
     "text": [
      "* \n",
      "* * \n",
      "* * * \n",
      "* * * * \n",
      "* * * * * \n"
     ]
    }
   ],
   "source": [
    "# Right Angled Triangle Pattern\n",
    "rows = 5\n",
    "i = 1\n",
    "while i <= rows:\n",
    "    j = 1\n",
    "    while j <= i:\n",
    "        print(\"*\", end=' ')\n",
    "        j += 1\n",
    "    i += 1\n",
    "    print()"
   ]
  },
  {
   "cell_type": "markdown",
   "id": "0e90cfba-e39e-4996-8fb4-036554781076",
   "metadata": {},
   "source": [
    "7. Reverse a while loop to display numbers from 10 to 1."
   ]
  },
  {
   "cell_type": "code",
   "execution_count": 19,
   "id": "1100d1f7-d7e3-42e3-a5f3-239229eb1593",
   "metadata": {},
   "outputs": [
    {
     "name": "stdout",
     "output_type": "stream",
     "text": [
      "10\n",
      "9\n",
      "8\n",
      "7\n",
      "6\n",
      "5\n",
      "4\n",
      "3\n",
      "2\n",
      "1\n"
     ]
    }
   ],
   "source": [
    "#7\n",
    "count = 10\n",
    "while count >= 1:\n",
    "    print(count)\n",
    "    count -= 1\n"
   ]
  },
  {
   "cell_type": "markdown",
   "id": "765b44f5-8c61-4bd5-bb97-31a2dccf9807",
   "metadata": {},
   "source": [
    "8. Reverse a while loop to display numbers from 10 to 1."
   ]
  },
  {
   "cell_type": "code",
   "execution_count": 20,
   "id": "444c05f1-de72-41fd-a677-346f4e6c71e8",
   "metadata": {},
   "outputs": [
    {
     "name": "stdout",
     "output_type": "stream",
     "text": [
      "10\n",
      "9\n",
      "8\n",
      "7\n",
      "6\n",
      "5\n",
      "4\n",
      "3\n",
      "2\n",
      "1\n"
     ]
    }
   ],
   "source": [
    "#8\n",
    "count = 10\n",
    "while count >= 1:\n",
    "    print(count)\n",
    "    count -= 1\n"
   ]
  },
  {
   "cell_type": "code",
   "execution_count": null,
   "id": "1f1eb557-99e6-4a78-97ec-74d4088d521a",
   "metadata": {},
   "outputs": [],
   "source": []
  }
 ],
 "metadata": {
  "kernelspec": {
   "display_name": "Python 3 (ipykernel)",
   "language": "python",
   "name": "python3"
  },
  "language_info": {
   "codemirror_mode": {
    "name": "ipython",
    "version": 3
   },
   "file_extension": ".py",
   "mimetype": "text/x-python",
   "name": "python",
   "nbconvert_exporter": "python",
   "pygments_lexer": "ipython3",
   "version": "3.10.8"
  }
 },
 "nbformat": 4,
 "nbformat_minor": 5
}
