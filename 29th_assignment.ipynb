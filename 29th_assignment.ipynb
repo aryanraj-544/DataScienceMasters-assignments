{
 "cells": [
  {
   "cell_type": "markdown",
   "id": "e5abcf2c-7cf5-4a59-a9c3-5f297aaa52ae",
   "metadata": {},
   "source": [
    "1. Who developed Python Programming Language?\n",
    "\n",
    "Ans: Guido van Rossum"
   ]
  },
  {
   "cell_type": "markdown",
   "id": "d8895842-29f9-4d3d-9801-97cfc3e00fcd",
   "metadata": {},
   "source": [
    "2. Which type of Programming does Python Support?\n",
    "\n",
    "Ans: object-oriented, structured, procedural and functional programming"
   ]
  },
  {
   "cell_type": "markdown",
   "id": "5149b566-dca8-4974-9e45-165265f86970",
   "metadata": {},
   "source": [
    "3. Is Python case sensitive when dealing with identifiers?\n",
    "\n",
    "Ans: Yes, Python is case sensitive, as EXAMPLE, example, EXample, exAmple are treated as distinct identifiers.\n"
   ]
  },
  {
   "cell_type": "markdown",
   "id": "0b45d854-e303-4d5e-9c72-ed8be27b7492",
   "metadata": {},
   "source": [
    "4. What is the correct extension of the Python file?\n",
    "\n",
    "Ans: .py"
   ]
  },
  {
   "cell_type": "markdown",
   "id": "b72dc579-f9d0-45a5-ac5c-8afb1aca1569",
   "metadata": {},
   "source": [
    "5. Is python code compiled or interpreted?\n",
    "\n",
    "Ans: Python code is interpreted"
   ]
  },
  {
   "cell_type": "markdown",
   "id": "14a1ae49-7565-42f0-aa10-bb233f94ace4",
   "metadata": {},
   "source": [
    "6. Name a few blocks of code used to define in Python language?\n",
    "\n",
    "Ans: function"
   ]
  },
  {
   "cell_type": "markdown",
   "id": "3dfc3222-039a-4d9f-a363-c18a8be68a1d",
   "metadata": {},
   "source": [
    "7. State a character used togive single-line comments in python\n",
    "\n",
    "Ans: # (Hashtag) character"
   ]
  },
  {
   "cell_type": "markdown",
   "id": "397e3b0d-9a57-47d3-9e0d-1f0dd5282617",
   "metadata": {},
   "source": [
    "8. Mention functios which can help us to find the version of python that we  are currently working ob?\n",
    "\n",
    "Ans: sys.version"
   ]
  },
  {
   "cell_type": "code",
   "execution_count": 2,
   "id": "b881a4d2-0a23-4c17-89fc-4bf01ef6d0b0",
   "metadata": {},
   "outputs": [
    {
     "name": "stdout",
     "output_type": "stream",
     "text": [
      "3.10.8 | packaged by conda-forge | (main, Nov 22 2022, 08:26:04) [GCC 10.4.0]\n"
     ]
    }
   ],
   "source": [
    "import sys\n",
    "print(sys.version)"
   ]
  },
  {
   "cell_type": "markdown",
   "id": "0fdb8379-ff07-4e8e-8883-cd534cc5df99",
   "metadata": {},
   "source": [
    "9. Python supports the creation of anonymous function at runtime using a construct called _________.\n",
    "\n",
    "Ans: lambda"
   ]
  },
  {
   "cell_type": "markdown",
   "id": "187f5d1b-a3f1-4eef-bb3c-7c8038d11183",
   "metadata": {},
   "source": [
    "10. What does pip stand for in python?\n",
    "\n",
    "Ans: pip is the package installer and manager for Python packages or modules."
   ]
  },
  {
   "cell_type": "markdown",
   "id": "daa04828-870a-40ab-9f75-46ffaaecc161",
   "metadata": {},
   "source": [
    "11. Mention a few built-in functions in python\n",
    "\n",
    "Ans: print(), eval(), input(), int(), complex(), type(), help(), etc."
   ]
  },
  {
   "cell_type": "markdown",
   "id": "c2ad600d-0d7d-4268-b5dc-18b67d633789",
   "metadata": {},
   "source": [
    "12. What is the maximum possible length of identifier in Python?\n",
    "\n",
    "Ans: Length of identifier can be unlimited in python, but it is advised to keep it to max of 79 characters"
   ]
  },
  {
   "cell_type": "markdown",
   "id": "8827b01f-045a-4cee-8f09-71d4717be865",
   "metadata": {},
   "source": [
    "13. What are the benifits of using Python?\n",
    "\n",
    "Ans: Benifits of Python are listed below:\n",
    "    \n",
    "    * Flexiblity: Python is a versatile language which can be used for various purposes like web-development, data analysis, artificial intelligence,etc.\n",
    "    \n",
    "    * Portability: Python program can be typed in any editor and can be executed on any IDE that supports python file.\n",
    "    \n",
    "    * Compatibility: It is cross-platform language which means that it can run on multiple platforms like Linux, Windows, MacOS and others without major modifications.\n",
    "    \n",
    "    * Redability and Simplicity: Python has a clean and readable syntax by using indentation and minimalistic design which makes it easier to understand and write code.\n",
    "    \n",
    "    * Extensive Library: Python supports an extensive standard library that provides ready-to-use modules and functions for common programming tasks.\n",
    "    \n",
    "    * Rapid Prototyping and Development: Python enables developers to quickly implement ideas and experiment with various approaches, making it a good choice for rapid prototyping and development"
   ]
  },
  {
   "cell_type": "markdown",
   "id": "a9f45f0b-c10b-4d0f-a48c-62f5a1bcd239",
   "metadata": {},
   "source": [
    "14. How is memory managed in Python?\n",
    "\n",
    "Ans: Memory management in Python is handled by the Python memory manager that uses a combination of techniques like garbage collection, memory pools and automatically memory management to manage memory efficiently."
   ]
  },
  {
   "cell_type": "markdown",
   "id": "5f68a448-f4e6-4524-9cff-f679561e9f89",
   "metadata": {},
   "source": [
    "15. How to install Python on Windows and set path variables?\n",
    "\n",
    "Ans: To install Python in Windows, follow the below steps:\n",
    "\n",
    "    * Visit the official website https://www.python.org , navigate to download section and install the lates version of python.\n",
    "    \n",
    "    * Run the executable files, make sure to check the \"Add Python to PATH\" option to automatically set the path variables.\n",
    "    \n",
    "    * Once installed, open cmd and type \"python --version\", it will display the installed python version and the variable path\n",
    "    \n",
    "    To set the variables manually, follow the below steps:\n",
    "    \n",
    "    * Open command prompt and type cmd python\n",
    "    \n",
    "    * Then visit to advanced system settings and add new variable and name it as PYTHON_NAME and paste the copied path.\n",
    "    \n",
    "    * Then search for path variable, select it's value and click edit\n",
    "    Add a semicolon towards the end of the value if it's not present and then type %PYTHON_HOME%"
   ]
  },
  {
   "cell_type": "markdown",
   "id": "4d2e79f2-e3fb-47cd-a437-a0325f353453",
   "metadata": {},
   "source": [
    "16. Is idention required in Python?\n",
    "\n",
    "Ans: Yes, indentation is required in Python to segregate the lines of codes in a function."
   ]
  }
 ],
 "metadata": {
  "kernelspec": {
   "display_name": "Python 3 (ipykernel)",
   "language": "python",
   "name": "python3"
  },
  "language_info": {
   "codemirror_mode": {
    "name": "ipython",
    "version": 3
   },
   "file_extension": ".py",
   "mimetype": "text/x-python",
   "name": "python",
   "nbconvert_exporter": "python",
   "pygments_lexer": "ipython3",
   "version": "3.10.8"
  }
 },
 "nbformat": 4,
 "nbformat_minor": 5
}
